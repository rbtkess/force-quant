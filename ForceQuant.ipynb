{
 "cells": [
  {
   "cell_type": "markdown",
   "id": "582c6ea4-bf33-4dcf-b3f1-f1d9352d670a",
   "metadata": {},
   "source": [
    "# Force Quant"
   ]
  },
  {
   "cell_type": "markdown",
   "id": "39e5e80d-3d6d-4fc6-9c3a-a87b39b6af34",
   "metadata": {},
   "source": [
    "## Install dependencies"
   ]
  },
  {
   "cell_type": "code",
   "execution_count": 15,
   "id": "c842077c-1659-40fc-a641-adafb919c2fc",
   "metadata": {},
   "outputs": [],
   "source": [
    "%%capture\n",
    "%pip install -U langchain_core langgraph requests beautifulsoup4"
   ]
  },
  {
   "cell_type": "markdown",
   "id": "8bec048e-4df8-4901-b658-f18f13d6a158",
   "metadata": {},
   "source": [
    "## Import packages"
   ]
  },
  {
   "cell_type": "code",
   "execution_count": 2,
   "id": "49bd9291-fd49-419c-b19d-7d91a68ad2d2",
   "metadata": {},
   "outputs": [],
   "source": [
    "import operator\n",
    "from typing import Annotated, Any, Sequence, Dict, Optional, Tuple, List\n",
    "from typing_extensions import TypedDict\n",
    "from langgraph.graph import StateGraph, START, END\n",
    "import requests # used to access wikipedia\n",
    "from bs4 import BeautifulSoup # used to process HTML from wikipedia\n",
    "from IPython.display import display, HTML, Image\n",
    "import os # for referencing environment variables\n",
    "from dotenv import load_dotenv # for loading environment variables \n",
    "import yfinance as yf # used to obtain P/E ratios\n",
    "from tavily import TavilyClient # used to search web for context\n",
    "from langchain_anthropic import ChatAnthropic \n",
    "from langchain_core.prompts import ChatPromptTemplate\n",
    "from langchain_core.pydantic_v1 import BaseModel, Field\n",
    "from typing import Literal\n",
    "\n",
    "model = 'claude-3-5-sonnet-20240620'"
   ]
  },
  {
   "cell_type": "markdown",
   "id": "377fcea8-733b-4798-9012-5137ecc001ee",
   "metadata": {},
   "source": [
    "## Environment Variables"
   ]
  },
  {
   "cell_type": "code",
   "execution_count": 3,
   "id": "c8ab43b2",
   "metadata": {},
   "outputs": [
    {
     "data": {
      "text/plain": [
       "True"
      ]
     },
     "execution_count": 3,
     "metadata": {},
     "output_type": "execute_result"
    }
   ],
   "source": [
    "load_dotenv() # load environment variables from .env file"
   ]
  },
  {
   "cell_type": "markdown",
   "id": "3c941378-8aa5-4bba-8963-d17f4705af32",
   "metadata": {},
   "source": [
    "## State class"
   ]
  },
  {
   "cell_type": "code",
   "execution_count": 4,
   "id": "cc212688",
   "metadata": {},
   "outputs": [],
   "source": [
    "class PortersForceScore(BaseModel):\n",
    "    '''\n",
    "    A score for a specific Porters 5 Force, including explaination.\n",
    "    '''\n",
    "    force: Literal[\n",
    "        'Competitive Rivalry',\n",
    "        'Threat of new Entrants',\n",
    "        'Supplier Power',\n",
    "        'Customer Power',\n",
    "        'Threat of Substitutes'\n",
    "    ] = Field(\n",
    "        ...,\n",
    "        alias='force_name',\n",
    "        description='''The Porters 5 Force being scored.'''\n",
    "        )\n",
    "    score: float = Field(\n",
    "        ...,\n",
    "        alias='force_score',\n",
    "        description='''A score in the range of -10 (worse for the company) to +10 (better for the company).'''\n",
    "        )\n",
    "    justification: str = Field(\n",
    "        ...,\n",
    "        alias='force_justification',\n",
    "        description='''A 2-3 sentence explaination for how the score was derived.'''\n",
    "        )\n",
    "    class Config:\n",
    "        allow_population_by_field_name = True"
   ]
  },
  {
   "cell_type": "code",
   "execution_count": 5,
   "id": "2e57cba6",
   "metadata": {},
   "outputs": [],
   "source": [
    "class PortersFiveForcesSummary(BaseModel):\n",
    "    '''\n",
    "    A summary of Porter's Five Forces analysis, including average score.\n",
    "    '''\n",
    "    forces: List[PortersForceScore] = Field(\n",
    "        ...,\n",
    "        alias='forces_scores',\n",
    "        description='''A list of scores for each of the five forces.'''\n",
    "    )\n",
    "\n",
    "    @property\n",
    "    def average_score(self) -> float:\n",
    "        '''\n",
    "        Calculate the average score of the provided Porters 5 Forces.\n",
    "        '''\n",
    "        total_score = sum(force.score for force in self.forces)\n",
    "        return total_score / len(self.forces)\n",
    "    \n",
    "    class Config:\n",
    "        allow_population_by_field_name = True"
   ]
  },
  {
   "cell_type": "code",
   "execution_count": 6,
   "id": "27fbf1cd",
   "metadata": {},
   "outputs": [],
   "source": [
    "def merge_dictionaries(dict1, dict2):\n",
    "    '''\n",
    "        Merges two dictionaries, giving priority to keys and values from dict1.\n",
    "    '''\n",
    "    # Start with a copy of dict1 to ensure its keys and values are prioritized\n",
    "    merged_dict = dict1.copy()\n",
    "    \n",
    "    # Add keys and values from dict2 that are not in dict1\n",
    "    for key, value in dict2.items():\n",
    "        if key not in merged_dict:\n",
    "            merged_dict[key] = value\n",
    "    \n",
    "    return merged_dict"
   ]
  },
  {
   "cell_type": "code",
   "execution_count": 7,
   "id": "76dd1166",
   "metadata": {},
   "outputs": [],
   "source": [
    "def merge_summaries(summary1: PortersFiveForcesSummary, summary2: PortersFiveForcesSummary) -> PortersFiveForcesSummary:\n",
    "    '''\n",
    "    Merge two instances of PortersFiveForcesSummary, keeping unique forces and retaining summary1's version of duplicates.\n",
    "    '''\n",
    "    if summary1 is None or summary1 == '':\n",
    "        summary1 = PortersFiveForcesSummary(forces_scores=[])\n",
    "    if summary2 is None or summary2 == '':\n",
    "        summary2 = PortersFiveForcesSummary(forces_scores=[])\n",
    "\n",
    "    # Create a dictionary for summary1 forces using the original attribute names\n",
    "    force_dict: Dict[str, PortersForceScore] = {force.force: force for force in summary1.forces}\n",
    "    \n",
    "    # Add unique forces from summary2, ignoring duplicates\n",
    "    for force in summary2.forces:\n",
    "        if force.force not in force_dict:\n",
    "            force_dict[force.force] = force\n",
    "    \n",
    "    # Create a new summary with merged forces using the alias 'forces_scores'\n",
    "    merged_summary = PortersFiveForcesSummary(forces_scores=list(force_dict.values()))\n",
    "\n",
    "    return merged_summary"
   ]
  },
  {
   "cell_type": "code",
   "execution_count": 8,
   "id": "8e793340-a314-467e-a431-e714334d9054",
   "metadata": {},
   "outputs": [],
   "source": [
    "class State(TypedDict):\n",
    "    ticker: Annotated[str, lambda a, b: a if len(a)>0 else b] \n",
    "    forces: Annotated[Dict, lambda a, b: a if len(a)>0 else b]\n",
    "    in_spx: Annotated[bool, lambda a, b: a if a else b]\n",
    "    company_name: Annotated[str, lambda a, b: a if len(a)>0 else b]\n",
    "    current_premium: Annotated[float, lambda a, b: max(a,b)]\n",
    "    target_premium: Annotated[float, lambda a, b: a if a != 0 else b] \n",
    "    expected_return: Annotated[float, lambda a, b: a if a != 0 else b] \n",
    "    force_context: Annotated[Dict, merge_dictionaries]\n",
    "    #summary: Annotated[str,merge_summaries]\n",
    "    summary: Annotated[PortersFiveForcesSummary,merge_summaries]\n",
    "    messages: Annotated[list, operator.add]"
   ]
  },
  {
   "cell_type": "markdown",
   "id": "7e9c3e53-8dcc-4dac-9296-4e4aeaf49f37",
   "metadata": {},
   "source": [
    "### _dummy node_"
   ]
  },
  {
   "cell_type": "code",
   "execution_count": 9,
   "id": "e51b78ab-5188-459d-9f5e-23542fc67f62",
   "metadata": {},
   "outputs": [],
   "source": [
    "def dummy_node(state: State) -> State:\n",
    "    return {\"messages\": [\"intermediate message\"]}"
   ]
  },
  {
   "cell_type": "markdown",
   "id": "84b6f40c-dc74-4cd4-a569-f0852ae44582",
   "metadata": {},
   "source": [
    "## Node and edge functions"
   ]
  },
  {
   "cell_type": "code",
   "execution_count": 10,
   "id": "98b18aba-9250-4fc5-bbc8-aa7f4cd7b0bb",
   "metadata": {},
   "outputs": [],
   "source": [
    "def is_in_snp(ticker: str) -> Tuple[bool, Optional[str]]:\n",
    "    ''' \n",
    "        Checks if the given ticker is a member of the S&P 500 index.\n",
    "        Disclaimer: uses wikipedia. A production version of this \n",
    "        function should use a more reliable source.\n",
    "    '''\n",
    "    # Fetch the S&P 500 list from Wikipedia\n",
    "    url = 'https://en.wikipedia.org/wiki/List_of_S%26P_500_companies'\n",
    "    response = requests.get(url)\n",
    "    soup = BeautifulSoup(response.text, 'html.parser')\n",
    "    \n",
    "    # Find the table containing the S&P 500 tickers\n",
    "    table = soup.find('table', {'id': 'constituents'})\n",
    "    rows = table.find_all('tr')[1:]  # Skip the header row\n",
    "\n",
    "    # Extract tickers from the table\n",
    "    sp500_tickers = [row.find_all('td')[0].text.strip() for row in rows]\n",
    "\n",
    "    # Extract company names from the table\n",
    "    sp500_companies = [row.find_all('td')[1].text.strip() for row in rows]\n",
    "\n",
    "    # Check if the given ticker is in the S&P 500 list\n",
    "    is_in_spx = ticker.upper() in sp500_tickers\n",
    "\n",
    "    # If the ticker is in the S&P 500 list, print the company name\n",
    "    if is_in_spx:\n",
    "        company_name = sp500_companies[sp500_tickers.index(ticker.upper())]\n",
    "        #print(f\"{ticker} is in the S&P 500 index. Company name: {company_name}\")\n",
    "    else:\n",
    "        company_name = None\n",
    "        #print(f\"{ticker} is not in the S&P 500 index\")\n",
    "    return is_in_spx, company_name\n",
    "\n",
    "def is_evaluation_valid(state: State) -> bool:\n",
    "    return True\n",
    "\n",
    "def populate_company_info(state: State) -> Sequence[str]:\n",
    "    in_spx, company_name = is_in_snp(state[\"ticker\"])\n",
    "    state[\"in_spx\"] = in_spx\n",
    "    state[\"company_name\"] = company_name\n",
    "    return state\n",
    "\n",
    "def validate_snp(state: State) -> Sequence[str]:  \n",
    "    if state[\"in_spx\"]:\n",
    "        print(f\"{state['ticker']} is in the S&P 500 index\")\n",
    "        return [\n",
    "            \"Calculate Current Premium\", \n",
    "            \"Estimate Target Premium\"\n",
    "        ]\n",
    "    else:\n",
    "        print(f\"{state['ticker']} is not in the S&P 500 index\")\n",
    "        return [END]\n",
    "\n"
   ]
  },
  {
   "cell_type": "markdown",
   "id": "3af8c05d",
   "metadata": {},
   "source": [
    "### _Get Current Premium_"
   ]
  },
  {
   "cell_type": "code",
   "execution_count": 11,
   "id": "7e50439d",
   "metadata": {},
   "outputs": [],
   "source": [
    "def get_pe_ratio(ticker: str, useForward = False) -> float:\n",
    "    '''\n",
    "        Returns the forward P/E ratio of the given ticker.\n",
    "    '''\n",
    "    security = yf.Ticker(ticker)\n",
    "    metric = 'forwardPE' if useForward else 'trailingPE'\n",
    "    pe_ratio = security.info[metric]\n",
    "    return pe_ratio"
   ]
  },
  {
   "cell_type": "code",
   "execution_count": 12,
   "id": "d90aead7",
   "metadata": {},
   "outputs": [],
   "source": [
    "def get_current_premium(state: State) -> float:\n",
    "    '''\n",
    "        Returns the current premium of the given ticker,\n",
    "        measured in terms of the P/E ratio relative to \n",
    "        the average for the S&P 500 index. Note that forward \n",
    "        earnings are used for individual securities but trailing \n",
    "        earnings are used for the S&P 500 index. This is based \n",
    "        on lack of data availability from the source used. \n",
    "        A production environment should use consistent multples.\n",
    "    '''\n",
    "    pe_ratio_ticker = get_pe_ratio(state['ticker'], useForward = True)\n",
    "    pe_ratio_snp = get_pe_ratio('SPY')\n",
    "    current_premium = pe_ratio_ticker / pe_ratio_snp - 1\n",
    "    return {'current_premium': current_premium}"
   ]
  },
  {
   "cell_type": "markdown",
   "id": "27dc990e",
   "metadata": {},
   "source": [
    "### _Estimate Target Premium_"
   ]
  },
  {
   "cell_type": "code",
   "execution_count": 13,
   "id": "13d88af7",
   "metadata": {},
   "outputs": [],
   "source": [
    "def estimate_target_premium(state: State) -> State:\n",
    "    target_premium = 0.20\n",
    "    return {'target_premium': target_premium}"
   ]
  },
  {
   "cell_type": "markdown",
   "id": "d445ffed",
   "metadata": {},
   "source": [
    "### _Calculate Expected Return_"
   ]
  },
  {
   "cell_type": "code",
   "execution_count": 14,
   "id": "5deadd32",
   "metadata": {},
   "outputs": [],
   "source": [
    "def calculate_expected_return(state: State) -> State:\n",
    "    target_return = state['target_premium'] / state['current_premium'] - 1\n",
    "    return {'expected_return': target_return}"
   ]
  },
  {
   "cell_type": "markdown",
   "id": "5c6aec51-a208-4b65-a007-45d86d585b13",
   "metadata": {},
   "source": [
    "## Calculate Current Premium Graph"
   ]
  },
  {
   "cell_type": "code",
   "execution_count": 15,
   "id": "41291663-869e-4828-821b-2e78267c9e74",
   "metadata": {},
   "outputs": [],
   "source": [
    "cp_builder = StateGraph(State)\n",
    "cp_builder.add_node(\"Calculate Current Premium\", get_current_premium)\n",
    "\n",
    "cp_builder.add_edge(START, \"Calculate Current Premium\")\n",
    "cp_builder.add_edge(\"Calculate Current Premium\", END)\n",
    "\n",
    "cp_graph = cp_builder.compile()"
   ]
  },
  {
   "cell_type": "code",
   "execution_count": 16,
   "id": "29e64eb6-4364-4d52-9db6-7b23e689ace6",
   "metadata": {},
   "outputs": [
    {
     "data": {
      "image/jpeg": "[encoded data removed]",
      "text/plain": [
       "<IPython.core.display.Image object>"
      ]
     },
     "metadata": {},
     "output_type": "display_data"
    }
   ],
   "source": [
    "display(Image(cp_graph.get_graph().draw_mermaid_png()))"
   ]
  },
  {
   "cell_type": "markdown",
   "id": "4ffc7b87",
   "metadata": {},
   "source": [
    "## Define Porter's 5 Forces"
   ]
  },
  {
   "cell_type": "code",
   "execution_count": 17,
   "id": "3777c4ee",
   "metadata": {},
   "outputs": [],
   "source": [
    "forces = {\n",
    "    \"Competitive Rivalry\": [\n",
    "        \"what are the number and relative size of its competitors?\",\n",
    "        \"what is the industry growth rate?\",\n",
    "        \"what is the similarity of the company's products to its competitors?\",\n",
    "        \"what is the size of exit barriers for competitors?\",\n",
    "        \"what is the materiality of fixed costs?\"\n",
    "    ],\n",
    "    \"Threat of new Entrants\":[\n",
    "        \"what are the economies of scale?\",\n",
    "        \"how significant is product differentiation, such as strong brand identity and/or customer loyalty?\",\n",
    "        \"what are the capital requirements?\",\n",
    "        \"how costly or difficult is it for customers to switch from existing companies to new entrants?\",\n",
    "        \"do new entrants have access to distribution channels or are they controlled by existing firms?\"\n",
    "        \"do regulations restrict new entrants?\"\n",
    "    ],\n",
    "    \"Supplier Power\":[\n",
    "        \"how many suppliers are available?\",\n",
    "        \"how unique (not easily substituted) are the products or services of suppliers?\",\n",
    "        \"how costly is it for the company to switch to other suppliers?\",\n",
    "        \"how easy is it for suppliers to integrate forward into the company's industry?\",\n",
    "        \"how much do suppliers rely on the company (and industry) for business?\"\n",
    "    ],\n",
    "    \"Customer Power\":[\n",
    "        \"how many customers are there?\",\n",
    "        \"how large are the orders of customers?\",\n",
    "        \"how unique (not easily substituted) are the companys products or services?\",\n",
    "        \"how sensitive are customers to changes in price?\",\n",
    "        \"how savvy are customers in negotiating prices?\"\n",
    "    ],\n",
    "    \"Threat of Substitutes\":[\n",
    "        \"what is the relative price performance of competing products or services?\",\n",
    "        \"how willing are customers to switch to substitutes?\",\n",
    "        \"are the comapany's products or services differentiated?\",\n",
    "        \"are there close substitutes for the company's products or services?\",\n",
    "    ]\n",
    "}"
   ]
  },
  {
   "cell_type": "code",
   "execution_count": 18,
   "id": "cbf93b3c",
   "metadata": {},
   "outputs": [],
   "source": [
    "def set_forces(state: State) -> State:\n",
    "    state[\"forces\"] = forces\n",
    "    return state"
   ]
  },
  {
   "cell_type": "markdown",
   "id": "a1a50e53",
   "metadata": {},
   "source": [
    "### Code to Calculate Force Scores"
   ]
  },
  {
   "cell_type": "code",
   "execution_count": 19,
   "id": "6a88f6a6",
   "metadata": {},
   "outputs": [],
   "source": [
    "def get_force_context(state: State, force: str) -> str:\n",
    "    '''\n",
    "        Returns the context for the selected Porter's Force.\n",
    "    '''\n",
    "    tavily_client = TavilyClient(api_key=os.getenv('TAVILY_API_KEY'))\n",
    "    company = state['company_name']\n",
    "    context = ''\n",
    "    for sub_force in state['forces'][force]:\n",
    "        query_string = f'{company}: {sub_force}'\n",
    "        addl_context = tavily_client.get_search_context(query=query_string)\n",
    "        context += f'{force}:\\n{addl_context}'\n",
    "    return context"
   ]
  },
  {
   "cell_type": "code",
   "execution_count": 20,
   "id": "70c1418b",
   "metadata": {},
   "outputs": [],
   "source": [
    "def summzarize_force_context(state: State, force: str, context: str) -> str:\n",
    "    '''\n",
    "        Summarize the context for the selected Porter's Force.\n",
    "    '''\n",
    "    llm = ChatAnthropic(model=model, temperature=0, max_tokens=4096) \n",
    "    prompt = ChatPromptTemplate.from_messages([\n",
    "        (\"system\", \"You are an expert financial analysis AI. Your task is to summarize information in a manner that is most relevant for financial analysis.\"),\n",
    "        (\"user\", \"Summarize the following text as it relates to {company}'s {force}. While your summary should be based on the information provided, do not tell me that it is. Just provide the summary. \\n{context}\")\n",
    "    ])\n",
    "    chain = prompt | llm\n",
    "    response = chain.invoke({\n",
    "        \"company\": state['company_name'],\n",
    "        \"force\": force,\n",
    "        \"context\": context\n",
    "                })\n",
    "    summarized_context = response.content\n",
    "    return summarized_context"
   ]
  },
  {
   "cell_type": "code",
   "execution_count": 21,
   "id": "919c279c",
   "metadata": {},
   "outputs": [],
   "source": [
    "def calculate_force_score(state: State, force: str, context: str) -> PortersForceScore:\n",
    "    '''\n",
    "        Uses context to calculate the force score.\n",
    "    '''\n",
    "    llm = ChatAnthropic(model=model, temperature=0, max_tokens=4096) \n",
    "    prompt_system_text = '''\n",
    "    You are an expert financial analysis AI.\n",
    "    Your task is to calculatulate the expected relative outperformance (or underperformance)\n",
    "    of a given company's stock. To do so, you use porters 5 forces, calculating a score for each \n",
    "    force and then combining them to get a final score.\n",
    "    '''\n",
    "\n",
    "    prompt = ChatPromptTemplate.from_messages(\n",
    "        [\n",
    "            (\"system\", prompt_system_text),\n",
    "            (\"human\", '''\n",
    "                Populate the pydantic model features for the selected porters 5 force, using the context provided.\n",
    "\n",
    "                Selected Company: {company}\n",
    "                Selected Porters 5 Force: {force}\n",
    "                Context: {context}\n",
    "            '''),\n",
    "        ]\n",
    "    )\n",
    "    llm_structured_output = llm.with_structured_output(schema=PortersForceScore,include_raw=True) \n",
    "    runnable = prompt | llm_structured_output\n",
    "    response = runnable.invoke({\n",
    "        \"company\": state['company_name'],\n",
    "        \"force\": force,\n",
    "        \"context\": context\n",
    "                })\n",
    "    score = response['parsed']\n",
    "    return score"
   ]
  },
  {
   "cell_type": "code",
   "execution_count": 22,
   "id": "9e11ae41",
   "metadata": {},
   "outputs": [],
   "source": [
    "def calculate_porter_force(state: State, force: str) -> State:\n",
    "    '''\n",
    "        Calculates the selected Porter's Force.\n",
    "    '''\n",
    "    print(f'Getting context for force: {force}...')\n",
    "    context = get_force_context(state, force)\n",
    "    print(f'Summarizing context for force: {force}...')\n",
    "    context = summzarize_force_context(state, force, context)\n",
    "    state['force_context'] = {force: context}\n",
    "    print(f'Calculating score for force: {force}...')\n",
    "    score = calculate_force_score(state, force, context)\n",
    "    state['summary'].forces.append(score)\n",
    "    print(f'Finished processing force: {force}.')\n",
    "    return state"
   ]
  },
  {
   "cell_type": "code",
   "execution_count": 23,
   "id": "77d28dc6",
   "metadata": {},
   "outputs": [],
   "source": [
    "def calculate_porter_force_competitive_rivalry(state: State) -> State:\n",
    "    return calculate_porter_force(state, 'Competitive Rivalry')"
   ]
  },
  {
   "cell_type": "code",
   "execution_count": 24,
   "id": "861923ea",
   "metadata": {},
   "outputs": [],
   "source": [
    "def calculate_porter_force_new_entrants(state: State) -> State:\n",
    "    return calculate_porter_force(state, 'Threat of new Entrants')"
   ]
  },
  {
   "cell_type": "code",
   "execution_count": 25,
   "id": "8dc1110f",
   "metadata": {},
   "outputs": [],
   "source": [
    "def calculate_porter_force_supplier_power(state: State) -> State:\n",
    "    return calculate_porter_force(state, 'Supplier Power')"
   ]
  },
  {
   "cell_type": "code",
   "execution_count": 26,
   "id": "619ef415",
   "metadata": {},
   "outputs": [],
   "source": [
    "def calculate_porter_force_customer_power(state: State) -> State:\n",
    "    return calculate_porter_force(state, 'Customer Power')"
   ]
  },
  {
   "cell_type": "code",
   "execution_count": 27,
   "id": "70a24303",
   "metadata": {},
   "outputs": [],
   "source": [
    "def calculate_porter_force_substitutes(state: State) -> State:\n",
    "    return calculate_porter_force(state, 'Threat of Substitutes')"
   ]
  },
  {
   "cell_type": "markdown",
   "id": "e6e9d508-0ce2-4b76-bcaf-12bc1bc1131c",
   "metadata": {},
   "source": [
    "## Estimate Future Premium Graph"
   ]
  },
  {
   "cell_type": "code",
   "execution_count": 28,
   "id": "9dc34292-d7fc-4cd9-9d5c-858ced9b33c5",
   "metadata": {},
   "outputs": [],
   "source": [
    "ep_builder = StateGraph(State)\n",
    "\n",
    "ep_builder.add_node(\"Estimate Target Premium\", estimate_target_premium)\n",
    "\n",
    "ep_builder.add_node(\"Competitive Rivalry\", calculate_porter_force_competitive_rivalry)\n",
    "ep_builder.add_node(\"Threat of new Entrants\", calculate_porter_force_new_entrants)\n",
    "ep_builder.add_node(\"Supplier Power\", calculate_porter_force_supplier_power)\n",
    "ep_builder.add_node(\"Customer Power\", calculate_porter_force_customer_power)\n",
    "ep_builder.add_node(\"Threat of Substitutes\", calculate_porter_force_substitutes)\n",
    "\n",
    "for force_node in forces:\n",
    "    #ep_builder.add_node(force_node, dummy_node)\n",
    "    ep_builder.add_edge(START, force_node)\n",
    "    ep_builder.add_edge(force_node, \"Estimate Target Premium\")\n",
    "    #ep_builder.add_conditional_edges(force_node, is_evaluation_valid, {True: \"Estimate Target Premium\", False: force_node})\n",
    "\n",
    "ep_builder.add_edge(\"Estimate Target Premium\", END)\n",
    "\n",
    "ep_graph = ep_builder.compile()"
   ]
  },
  {
   "cell_type": "code",
   "execution_count": 29,
   "id": "5e24fb9a-9653-4248-a6e4-91ca0dc3a9f1",
   "metadata": {},
   "outputs": [
    {
     "data": {
      "image/jpeg": "[encoded data removed]",
      "text/plain": [
       "<IPython.core.display.Image object>"
      ]
     },
     "metadata": {},
     "output_type": "display_data"
    }
   ],
   "source": [
    "display(Image(ep_graph.get_graph().draw_mermaid_png()))"
   ]
  },
  {
   "cell_type": "markdown",
   "id": "cf79c658-224c-4fb2-a2c3-7e2f71743615",
   "metadata": {},
   "source": [
    "## Entry Graph"
   ]
  },
  {
   "cell_type": "code",
   "execution_count": 30,
   "id": "c8e5e7e3-33ec-445e-9ec1-764aa3de94fb",
   "metadata": {},
   "outputs": [],
   "source": [
    "builder = StateGraph(State)\n",
    "builder.add_node(\"Lookup Ticker\",dummy_node)\n",
    "builder.add_node(\"Set Forces\", set_forces)\n",
    "builder.add_node(\"Populate Company Info\", populate_company_info)\n",
    "builder.add_node(\"Calculate Current Premium\", cp_graph)\n",
    "builder.add_node(\"Estimate Target Premium\", ep_graph)\n",
    "builder.add_node(\"Calculate Expected Return\", calculate_expected_return)\n",
    "\n",
    "builder.add_edge(START, \"Lookup Ticker\")\n",
    "builder.add_edge(\"Lookup Ticker\", \"Set Forces\")\n",
    "builder.add_edge(\"Set Forces\", \"Populate Company Info\")\n",
    "\n",
    "builder.add_conditional_edges(\"Populate Company Info\", validate_snp, [\n",
    "    \"Calculate Current Premium\",\n",
    "    \"Estimate Target Premium\",\n",
    "    END\n",
    "])\n",
    "\n",
    "builder.add_edge(\"Estimate Target Premium\", \"Calculate Expected Return\")\n",
    "builder.add_edge(\"Calculate Current Premium\", \"Calculate Expected Return\")\n",
    "    \n",
    "builder.add_edge(\"Calculate Expected Return\", END)\n",
    "graph = builder.compile()"
   ]
  },
  {
   "cell_type": "markdown",
   "id": "d3c7de94-3868-423b-a35a-3a0ac3f3c72c",
   "metadata": {},
   "source": [
    "### Visualize Agent Graph"
   ]
  },
  {
   "cell_type": "code",
   "execution_count": 31,
   "id": "da62f19d-0ded-4faf-be8b-0726c7b63076",
   "metadata": {},
   "outputs": [
    {
     "data": {
      "image/jpeg": "[encoded data removed]",
      "text/plain": [
       "<IPython.core.display.Image object>"
      ]
     },
     "metadata": {},
     "output_type": "display_data"
    }
   ],
   "source": [
    "display(Image(graph.get_graph(xray=1).draw_mermaid_png()))"
   ]
  },
  {
   "cell_type": "markdown",
   "id": "581da0cd",
   "metadata": {},
   "source": [
    "## Test"
   ]
  },
  {
   "cell_type": "code",
   "execution_count": 39,
   "id": "549de26c",
   "metadata": {},
   "outputs": [
    {
     "name": "stdout",
     "output_type": "stream",
     "text": [
      "AAPL is in the S&P 500 index\n",
      "Getting context for force: Competitive Rivalry...\n",
      "Getting context for force: Threat of new Entrants...\n",
      "Getting context for force: Supplier Power...\n",
      "Getting context for force: Customer Power...\n",
      "Getting context for force: Threat of Substitutes...\n",
      "Summarizing context for force: Threat of Substitutes...\n",
      "Summarizing context for force: Supplier Power...\n",
      "Summarizing context for force: Customer Power...\n",
      "Summarizing context for force: Competitive Rivalry...\n",
      "Summarizing context for force: Threat of new Entrants...\n",
      "Calculating score for force: Threat of Substitutes...\n",
      "Calculating score for force: Supplier Power...\n",
      "Calculating score for force: Threat of new Entrants...\n",
      "Calculating score for force: Customer Power...\n",
      "Calculating score for force: Competitive Rivalry...\n",
      "Finished processing force: Threat of Substitutes.\n",
      "Finished processing force: Threat of new Entrants.\n",
      "Finished processing force: Supplier Power.\n",
      "Finished processing force: Customer Power.\n",
      "Finished processing force: Competitive Rivalry.\n"
     ]
    }
   ],
   "source": [
    "temp = str(PortersFiveForcesSummary(forces_scores=[]).json())\n",
    "result = graph.invoke({\"ticker\":\"AAPL\"}, debug=False)"
   ]
  },
  {
   "cell_type": "code",
   "execution_count": 41,
   "id": "26e0e7e0",
   "metadata": {},
   "outputs": [
    {
     "data": {
      "text/plain": [
       "{'ticker': 'AAPL',\n",
       " 'forces': {'Competitive Rivalry': ['what are the number and relative size of its competitors?',\n",
       "   'what is the industry growth rate?',\n",
       "   \"what is the similarity of the company's products to its competitors?\",\n",
       "   'what is the size of exit barriers for competitors?',\n",
       "   'what is the materiality of fixed costs?'],\n",
       "  'Threat of new Entrants': ['what are the economies of scale?',\n",
       "   'how significant is product differentiation, such as strong brand identity and/or customer loyalty?',\n",
       "   'what are the capital requirements?',\n",
       "   'how costly or difficult is it for customers to switch from existing companies to new entrants?',\n",
       "   'do new entrants have access to distribution channels or are they controlled by existing firms?do regulations restrict new entrants?'],\n",
       "  'Supplier Power': ['how many suppliers are available?',\n",
       "   'how unique (not easily substituted) are the products or services of suppliers?',\n",
       "   'how costly is it for the company to switch to other suppliers?',\n",
       "   \"how easy is it for suppliers to integrate forward into the company's industry?\",\n",
       "   'how much do suppliers rely on the company (and industry) for business?'],\n",
       "  'Customer Power': ['how many customers are there?',\n",
       "   'how large are the orders of customers?',\n",
       "   'how unique (not easily substituted) are the companys products or services?',\n",
       "   'how sensitive are customers to changes in price?',\n",
       "   'how savvy are customers in negotiating prices?'],\n",
       "  'Threat of Substitutes': ['what is the relative price performance of competing products or services?',\n",
       "   'how willing are customers to switch to substitutes?',\n",
       "   \"are the comapany's products or services differentiated?\",\n",
       "   \"are there close substitutes for the company's products or services?\"]},\n",
       " 'in_spx': True,\n",
       " 'company_name': 'Apple Inc.',\n",
       " 'current_premium': 0.0603712058182182,\n",
       " 'target_premium': 0.2,\n",
       " 'expected_return': 2.312837590195127,\n",
       " 'force_context': {'Competitive Rivalry': \"Apple faces intense competitive rivalry in the technology industry across multiple product categories:\\n\\n1. Smartphones: Apple's iPhone competes with Samsung, Huawei, and other Android manufacturers. Samsung is Apple's biggest rival, with significant market share and a diverse product portfolio.\\n\\n2. Personal Computing: In the PC and tablet markets, Apple's Mac and iPad compete with Microsoft, Lenovo, HP, and other Windows-based manufacturers.\\n\\n3. Wearables: Apple Watch and AirPods face competition from companies like Samsung, Fitbit, and various audio brands.\\n\\n4. Services: Apple Music competes with Spotify, Amazon Music, and others in music streaming. Apple TV+ competes with Netflix, Amazon Prime Video, and other streaming services.\\n\\n5. Software: Apple's iOS and macOS compete with Google's Android and Microsoft's Windows operating systems.\\n\\nThe competitive landscape is characterized by:\\n\\n- Rapid technological innovation and product cycles\\n- High R&D and marketing expenditures\\n- Strong brand loyalty and ecosystem lock-in effects\\n- Price competition, especially in smartphones and PCs\\n- Increasing overlap as tech giants expand into new categories\\n\\nApple differentiates itself through:\\n\\n- Premium brand image and customer experience\\n- Vertical integration of hardware, software, and services\\n- Focus on design and user interface\\n- Strong ecosystem of interconnected products and services\\n\\nWhile facing strong competition, Apple maintains a leading position in most of its markets through innovation, brand strength, and its tightly integrated ecosystem. However, the company must continue to innovate and expand its offerings to maintain its competitive edge in a rapidly evolving technology landscape.\",\n",
       "  'Threat of new Entrants': \"Apple faces a relatively low threat of new entrants due to several factors:\\n\\n1. Economies of scale: Apple's large-scale production allows it to achieve cost advantages that new entrants would struggle to match.\\n\\n2. Brand loyalty: Apple has cultivated a strong and loyal customer base, making it difficult for new entrants to gain market share.\\n\\n3. High capital requirements: Entering the tech industry, especially at Apple's level, requires significant financial resources for research, development, and marketing.\\n\\n4. Distribution network: Apple has established an extensive distribution network, including its own retail stores, which would be challenging for new entrants to replicate.\\n\\n5. Technological expertise: Apple's innovative products and ecosystem create a barrier for new entrants lacking similar technological capabilities.\\n\\n6. Supply chain management: Apple's efficient supply chain and operational efficiency provide a competitive advantage that new entrants would find difficult to match.\\n\\n7. Regulatory environment: In some locations, stringent business regulations may create additional barriers for new entrants.\\n\\nThese factors collectively contribute to a high barrier to entry in Apple's market segments, reducing the threat of new entrants and helping to maintain Apple's strong market position.\",\n",
       "  'Supplier Power': \"Apple's supplier power is characterized by the following key points:\\n\\n1. Significant leverage over suppliers due to its size and market dominance, allowing Apple to set strict standards for quality, environmental practices, and labor conditions.\\n\\n2. Close collaboration with suppliers on product design and development of new materials and components.\\n\\n3. A diverse and global supply chain, with a gradual shift away from heavy reliance on China. As of 2020, only 39% of Apple's suppliers were in China, down from 48% in 2019.\\n\\n4. Stringent policies against forced labor and child labor, with Apple removing suppliers who fail to meet its standards.\\n\\n5. Investment in supplier development, including a $50 million Supplier Employee Development Fund to expand initiatives and develop skills across its supply chain.\\n\\n6. Strong relationships with key suppliers, but also a willingness to maintain multiple suppliers for critical components to reduce dependency and increase bargaining power.\\n\\n7. Vertical integration strategies in some areas, giving Apple more control over its supply chain and reducing reliance on external suppliers for certain components.\\n\\n8. Challenges in balancing ethical concerns with business needs, as evidenced by past instances of slow responses to labor violations by some suppliers.\\n\\n9. Ongoing efforts to diversify manufacturing locations, including expansion into countries like India and Vietnam, to reduce geopolitical risks and potentially increase bargaining power with suppliers.\\n\\n10. Apple's supply chain strategy combines technology, efficiency, and strong supplier relationships to maintain its competitive edge in the market.\",\n",
       "  'Customer Power': \"Apple's customer power is relatively low due to several factors:\\n\\n1. Brand loyalty: Apple has cultivated a strong, loyal customer base that is willing to pay premium prices for its products and services.\\n\\n2. Ecosystem lock-in: Apple's integrated ecosystem of devices, software, and services creates high switching costs for customers, making it difficult to move to competitors.\\n\\n3. Unique value proposition: Apple's focus on innovation, design, and user experience differentiates its products from competitors, reducing customers' bargaining power.\\n\\n4. Premium market dominance: Apple holds over 90% market share in the $1,000+ price range for smartphones, indicating strong customer preference for its high-end products.\\n\\n5. Diverse product and service offerings: Apple's range of products and services, including iPhones, iPads, Macs, Apple Watch, and various digital services, provides multiple revenue streams and reduces dependence on any single customer group.\\n\\n6. Psychological pricing: Apple employs strategic pricing techniques to influence customer perception and maintain its premium brand image.\\n\\n7. Limited price sensitivity: Apple's target market is less price-sensitive, allowing the company to maintain higher prices without significantly impacting demand.\\n\\n8. Exclusive features: Apple's proprietary software, apps, and services are only available on its devices, further reducing customer bargaining power.\\n\\nWhile customers have some power through their purchasing decisions, Apple's strong brand, ecosystem, and unique value proposition significantly limit their ability to influence pricing or product offerings.\",\n",
       "  'Threat of Substitutes': 'Apple faces a moderate threat of substitutes in its various product and service categories:\\n\\n1. Smartphones: Competitors like Samsung, Google, Xiaomi, and OnePlus offer alternative flagship devices that can substitute iPhones.\\n\\n2. Computers: Microsoft, Dell, HP, Lenovo, and Asus provide alternatives to Apple\\'s Mac lineup.\\n\\n3. Tablets: Various Android-based tablets compete with iPads.\\n\\n4. Wearables: Companies like Samsung, Fitbit, and Garmin offer alternatives to Apple Watch and AirPods.\\n\\n5. Services: Competitors exist in various service categories, such as Spotify in music streaming and Amazon in cloud services.\\n\\nHowever, Apple\\'s strong brand image, ecosystem integration, and focus on user experience create significant switching costs for consumers. The company\\'s \"mainstream luxury\" positioning and premium pricing strategy also help differentiate its products from substitutes.\\n\\nApple\\'s continuous innovation, design focus, and integration of hardware, software, and services make its offerings unique, reducing the threat of direct substitutes. The company\\'s high margins and strong financial performance indicate its ability to maintain a competitive edge despite the presence of alternatives in the market.\\n\\nWhile substitutes exist, Apple\\'s differentiation strategy and ecosystem lock-in effect mitigate their impact on the company\\'s market position and profitability.'},\n",
       " 'summary': PortersFiveForcesSummary(forces=[PortersForceScore(force='Threat of Substitutes', score=6.0, justification=\"Apple faces moderate threat of substitutes across its product lines, but its strong brand, ecosystem integration, and focus on user experience create significant switching costs. The company's differentiation strategy, continuous innovation, and ecosystem lock-in effect mitigate the impact of substitutes, maintaining its competitive edge and profitability.\"), PortersForceScore(force='Threat of new Entrants', score=8.0, justification=\"Apple faces a low threat of new entrants due to significant barriers to entry. These include economies of scale, strong brand loyalty, high capital requirements, an established distribution network, technological expertise, and efficient supply chain management. These factors make it extremely challenging for new companies to compete effectively with Apple, contributing positively to Apple's market position.\"), PortersForceScore(force='Supplier Power', score=8.0, justification=\"Apple's supplier power is strong, scoring 8 out of 10. This high score is due to Apple's significant leverage over suppliers, diverse global supply chain, and vertical integration strategies. The company's size and market dominance allow it to set strict standards and maintain multiple suppliers for critical components, reducing dependency and increasing bargaining power.\"), PortersForceScore(force='Customer Power', score=8.0, justification=\"Apple's customer power is relatively low due to strong brand loyalty, ecosystem lock-in, and unique value proposition. With over 90% market share in premium smartphones, diverse product offerings, and a less price-sensitive target market, customers have limited ability to influence pricing or product offerings. This results in a highly favorable position for Apple.\"), PortersForceScore(force='Competitive Rivalry', score=5.0, justification=\"Apple faces intense competition across multiple product categories, but maintains a strong position due to its premium brand, vertical integration, and ecosystem. While rivalry is high, Apple's differentiation and market leadership contribute to a positive score.\")]),\n",
       " 'messages': ['intermediate message',\n",
       "  'intermediate message',\n",
       "  'intermediate message',\n",
       "  'intermediate message',\n",
       "  'intermediate message',\n",
       "  'intermediate message',\n",
       "  'intermediate message',\n",
       "  'intermediate message',\n",
       "  'intermediate message',\n",
       "  'intermediate message',\n",
       "  'intermediate message',\n",
       "  'intermediate message',\n",
       "  'intermediate message',\n",
       "  'intermediate message',\n",
       "  'intermediate message',\n",
       "  'intermediate message',\n",
       "  'intermediate message',\n",
       "  'intermediate message',\n",
       "  'intermediate message',\n",
       "  'intermediate message',\n",
       "  'intermediate message',\n",
       "  'intermediate message',\n",
       "  'intermediate message',\n",
       "  'intermediate message',\n",
       "  'intermediate message',\n",
       "  'intermediate message',\n",
       "  'intermediate message',\n",
       "  'intermediate message',\n",
       "  'intermediate message',\n",
       "  'intermediate message',\n",
       "  'intermediate message',\n",
       "  'intermediate message']}"
      ]
     },
     "execution_count": 41,
     "metadata": {},
     "output_type": "execute_result"
    }
   ],
   "source": [
    "result"
   ]
  },
  {
   "cell_type": "code",
   "execution_count": null,
   "id": "45160330",
   "metadata": {},
   "outputs": [],
   "source": []
  },
  {
   "cell_type": "code",
   "execution_count": null,
   "id": "16439f96",
   "metadata": {},
   "outputs": [],
   "source": []
  },
  {
   "cell_type": "markdown",
   "id": "9f7a4d04",
   "metadata": {},
   "source": [
    "## Porter's Force Calculation"
   ]
  },
  {
   "cell_type": "code",
   "execution_count": 9,
   "id": "5e04a367",
   "metadata": {},
   "outputs": [],
   "source": [
    "# TEMP - DEBUG\n",
    "state = {'ticker': 'AAPL',\n",
    " 'forces': {'Competitive Rivalry': ['what are the number and relative size of its competitors?',\n",
    "   'what is the industry growth rate?',\n",
    "   \"what is the similarity of the company's products to its competitors?\",\n",
    "   'what is the size of exit barriers for competitors?',\n",
    "   'what is the materiality of fixed costs?'],\n",
    "  'Threat of new Entrants': ['what are the economies of scale?',\n",
    "   'how significant is product differentiation, such as strong brand identity and/or customer loyalty?',\n",
    "   'what are the capital requirements?',\n",
    "   'how costly or difficult is it for customers to switch from existing companies to new entrants?',\n",
    "   'do new entrants have access to distribution channels or are they controlled by existing firms?do regulations restrict new entrants?'],\n",
    "  'Supplier Power': ['how many suppliers are available?',\n",
    "   'how unique (not easily substituted) are the products or services of suppliers?',\n",
    "   'how costly is it for the company to switch to other suppliers?',\n",
    "   \"how easy is it for suppliers to integrate forward into the company's industry?\",\n",
    "   'how much do suppliers rely on the company (and industry) for business?'],\n",
    "  'Customer Power': ['how many customers are there?',\n",
    "   'how large are the orders of customers?',\n",
    "   'how unique (not easily substituted) are the companys products or services?',\n",
    "   'how sensitive are customers to changes in price?',\n",
    "   'how savvy are customers in negotiating prices?'],\n",
    "  'Threat of Substitutes': ['what is the relative price performance of competing products or services?',\n",
    "   'how willing are customers to switch to substitutes?',\n",
    "   \"are the comapany's products or services differentiated?\",\n",
    "   \"are there close substitutes for the company's products or services?\"]},\n",
    " 'in_spx': True,\n",
    " 'company_name': 'Apple Inc.',\n",
    " 'current_premium': 0.0603712058182182,\n",
    " 'target_premium': 0.2,\n",
    " 'expected_return': 2.312837590195127,\n",
    " 'force_context': {'Competitive Rivalry': \"Apple Inc. faces intense competitive rivalry in the technology industry, particularly in smartphones, personal computing, and services. Key aspects of this rivalry include:\\n\\n1. Strong competitors: Apple competes with major tech companies like Samsung, Microsoft, Google, Amazon, and Huawei across various product categories.\\n\\n2. Innovation focus: Apple emphasizes superior innovation and integration of hardware, software, and services to differentiate itself from competitors.\\n\\n3. Brand strength: Apple's strong brand identity and premium positioning help it maintain a competitive edge.\\n\\n4. Market share battles: The company faces significant competition in smartphone and personal computing markets, with rivals constantly attempting to gain market share.\\n\\n5. Diverse product ecosystem: Apple's competitive advantage stems from its integrated ecosystem of products and services.\\n\\n6. Resource-rich competitors: Some of Apple's competitors have substantial resources and may offer products at lower margins to compete.\\n\\n7. Intensifying competition: The tech industry is experiencing increased competition as companies imitate features and collaborate to challenge Apple's offerings.\\n\\n8. Multiple battlegrounds: Apple faces competition across various segments, including smartphones, computers, tablets, wearables, and services.\\n\\n9. Constant innovation: To maintain its competitive position, Apple must continuously innovate and improve its products and services.\\n\\n10. Global competition: Apple faces competition from both established global brands and regional players in various markets.\\n\\nThis competitive landscape requires Apple to maintain its focus on innovation, brand strength, and ecosystem integration to sustain its market position and profitability.\",\n",
    "  'Threat of new Entrants': \"Apple Inc. faces a relatively low threat of new entrants due to several factors:\\n\\n1. Economies of scale: Apple's massive production scale allows for cost advantages that new entrants would struggle to match.\\n\\n2. Brand loyalty and customer trust: Apple has cultivated strong brand loyalty, with high customer retention rates (up to 92% in some markets) and a willingness to pay premium prices.\\n\\n3. Capital requirements: Entering the tech industry requires substantial investments in research, development, and marketing, creating a significant barrier for new companies.\\n\\n4. Intellectual property: Apple holds over 20,000 patents, protecting its proprietary technology and making it difficult for new entrants to replicate its products.\\n\\n5. Distribution channels: Apple has established an extensive distribution network, including its own retail stores and partnerships with major retailers, which new entrants would find challenging to replicate.\\n\\n6. Switching costs: Apple's ecosystem of interconnected products and services creates high switching costs for consumers, discouraging them from moving to new entrants' offerings.\\n\\n7. Technological expertise: Apple's long-standing experience and expertise in hardware and software development present a formidable challenge for new competitors to overcome.\\n\\nThese factors collectively create substantial barriers to entry, making it difficult for new companies to compete effectively with Apple in its core markets.\",\n",
    "  'Supplier Power': \"Apple's supplier power is characterized by a complex and evolving global supply chain:\\n\\n1. Extensive network: Apple has over 500 suppliers across 40+ countries, with a supply chain worth an estimated $500 billion.\\n\\n2. Geographic diversification: While China remains a key manufacturing hub, Apple is actively diversifying its supply chain to countries like Vietnam and India to reduce reliance on any single region.\\n\\n3. Key suppliers: Major companies like Foxconn, Samsung, LG, Pegatron, and TSMC are critical to Apple's production, with some suppliers heavily dependent on Apple's business.\\n\\n4. Vertical integration: Apple exercises significant control over various aspects of its supply chain, including product design and manufacturing processes.\\n\\n5. Supplier commitments: Apple is pushing suppliers to adopt clean energy, with over 300 manufacturers committed to using 100% renewable energy for Apple production by 2030.\\n\\n6. Ethical concerns: There have been instances of suppliers violating Apple's ethics policies, including labor issues, which Apple has sometimes been slow to address.\\n\\n7. Strategic leverage: Apple's massive scale allows it to exert considerable influence over suppliers, often dictating terms and standards.\\n\\n8. Supply chain management: Apple closely manages its supply chain, conducting regular audits and pushing for improvements in quality, sustainability, and working conditions.\\n\\n9. Component sourcing: Apple strategically sources critical components like semiconductors, sometimes facing challenges in certain areas where expertise is concentrated.\\n\\n10. Shifting dynamics: Geopolitical tensions and trade issues are prompting Apple to reconsider its supply chain strategy, potentially leading to further diversification and reshoring of some production.\\n\\nThis complex supplier landscape gives Apple both significant advantages and challenges in managing its global supply chain and maintaining its competitive edge.\",\n",
    "  'Customer Power': \"Apple's customer power can be summarized as follows:\\n\\n1. Large and loyal customer base: Despite premium pricing, Apple has a substantial global customer base due to the outstanding quality of its products and services.\\n\\n2. Brand loyalty and ecosystem lock-in: Apple's integrated ecosystem of products and services (iPhone, iPad, Mac, iCloud, Apple Music, etc.) creates a seamless experience that encourages customer retention.\\n\\n3. Premium market dominance: Apple holds over 90% market share in the $1,000+ price range for smartphones, indicating strong customer willingness to pay for premium products.\\n\\n4. Price inelasticity: Apple's pricing strategy suggests that demand for its products is relatively inelastic, allowing the company to maintain higher prices without significantly impacting sales.\\n\\n5. Emotional connection: Apple products are often viewed as luxury items, providing customers with a sense of extravagance and positive emotional experiences.\\n\\n6. Innovation-driven demand: Continuous innovation and product improvements keep customers engaged and willing to upgrade to newer models.\\n\\n7. Service integration: Apple's growing focus on services (Apple TV+, Apple Music, Apple Arcade) provides additional value to customers and strengthens their connection to the ecosystem.\\n\\n8. Limited price sensitivity: While Apple offers some more affordable options (e.g., iPhone SE), its core strategy remains focused on premium pricing, indicating that many customers are not highly price-sensitive.\\n\\n9. High customer expectations: Apple's reputation for quality and innovation has set high customer expectations, which the company must consistently meet to maintain its strong market position.\\n\\n10. Segmented offerings: Apple provides a range of products at different price points, allowing it to cater to various customer segments while maintaining its premium brand image.\",\n",
    "  'Threat of Substitutes': \"Apple faces a moderate threat of substitutes across its product and service lines:\\n\\n1. Smartphones: Android devices from Samsung, Google, Xiaomi, and OnePlus offer viable alternatives to iPhones, providing similar functionalities and features.\\n\\n2. Computers: Microsoft, Dell, HP, Lenovo, and Asus compete with Apple's Mac lineup, offering Windows-based alternatives.\\n\\n3. Tablets: Various Android and Windows-based tablets serve as substitutes for iPads.\\n\\n4. Wearables: Companies like Samsung, Fitbit, and Garmin offer smartwatches and fitness trackers that compete with Apple Watch.\\n\\n5. Services: Spotify competes with Apple Music, while Amazon and Google offer alternatives to Apple's cloud and smart home services.\\n\\nHowever, Apple mitigates this threat through:\\n\\n1. Ecosystem integration: Apple's interconnected products and services create a closed ecosystem, increasing switching costs for users.\\n\\n2. Brand loyalty: Apple's strong brand image and customer loyalty reduce the likelihood of customers switching to substitutes.\\n\\n3. Differentiation: Apple focuses on premium positioning, innovative design, and user experience, setting its products apart from competitors.\\n\\n4. Continuous innovation: Regular product updates and new features help maintain Apple's competitive edge.\\n\\n5. Diversified product portfolio: Apple's range of products and services reduces reliance on any single offering.\\n\\nWhile substitutes exist, Apple's strategy of differentiation, ecosystem lock-in, and focus on user experience helps maintain its market position and reduces the overall threat of substitutes.\"},\n",
    " 'summary': PortersFiveForcesSummary(forces=[PortersForceScore(force='Threat of Substitutes', score=5.0, justification=\"Apple faces moderate threat of substitutes across product lines, but mitigates this through ecosystem integration, brand loyalty, and continuous innovation. While viable alternatives exist, Apple's differentiation and ecosystem lock-in reduce the overall impact of substitutes, positioning the company favorably.\"), PortersForceScore(force='Threat of new Entrants', score=8.0, justification=\"Apple faces a low threat of new entrants due to significant barriers to entry. These include economies of scale, strong brand loyalty (92% retention rate), high capital requirements, extensive patent portfolio (20,000+ patents), established distribution channels, high switching costs within Apple's ecosystem, and deep technological expertise. These factors make it extremely challenging for new competitors to enter and compete effectively in Apple's markets.\"), PortersForceScore(force='Customer Power', score=-2.0, justification=\"Apple's customer power is relatively low, benefiting the company. The large, loyal customer base, strong brand loyalty, and ecosystem lock-in significantly reduce customer power. Premium market dominance and price inelasticity allow Apple to maintain high prices. However, high customer expectations and the need for continuous innovation slightly increase customer power, resulting in a slightly negative score.\"), PortersForceScore(force='Competitive Rivalry', score=6.0, justification=\"Apple faces intense competition but maintains a strong position due to its brand strength, innovative ecosystem, and premium positioning. While the rivalry is high, Apple's unique advantages and constant innovation allow it to outperform many competitors, justifying a positive score of 6.\"), PortersForceScore(force='Supplier Power', score=-7.0, justification=\"Apple's extensive network of 500+ suppliers across 40+ countries, coupled with its strategic leverage due to massive scale, significantly reduces supplier power. The company's vertical integration and active supply chain management further weaken supplier influence. While some key suppliers are critical, Apple's ongoing diversification efforts and ability to dictate terms maintain its strong position against supplier power.\")]),\n",
    " 'messages': ['intermediate message',\n",
    "  'intermediate message',\n",
    "  'intermediate message',\n",
    "  'intermediate message',\n",
    "  'intermediate message',\n",
    "  'intermediate message',\n",
    "  'intermediate message',\n",
    "  'intermediate message',\n",
    "  'intermediate message',\n",
    "  'intermediate message',\n",
    "  'intermediate message',\n",
    "  'intermediate message',\n",
    "  'intermediate message',\n",
    "  'intermediate message',\n",
    "  'intermediate message',\n",
    "  'intermediate message',\n",
    "  'intermediate message',\n",
    "  'intermediate message',\n",
    "  'intermediate message',\n",
    "  'intermediate message',\n",
    "  'intermediate message',\n",
    "  'intermediate message',\n",
    "  'intermediate message',\n",
    "  'intermediate message',\n",
    "  'intermediate message',\n",
    "  'intermediate message',\n",
    "  'intermediate message',\n",
    "  'intermediate message',\n",
    "  'intermediate message',\n",
    "  'intermediate message',\n",
    "  'intermediate message',\n",
    "  'intermediate message']}"
   ]
  },
  {
   "cell_type": "code",
   "execution_count": 14,
   "id": "7ca28398",
   "metadata": {},
   "outputs": [
    {
     "data": {
      "text/plain": [
       "2.0"
      ]
     },
     "execution_count": 14,
     "metadata": {},
     "output_type": "execute_result"
    }
   ],
   "source": [
    "state['summary'].average_score"
   ]
  },
  {
   "cell_type": "code",
   "execution_count": 29,
   "id": "6fcbefc5",
   "metadata": {},
   "outputs": [],
   "source": [
    "# Competitive Rivalry\n",
    "# Threat of new Entrants\n",
    "# Supplier Power\n",
    "# Customer Power\n",
    "# Threat of Substitutes\n",
    "#calculate_porter_force(state, \"Threat of Substitutes\")"
   ]
  },
  {
   "cell_type": "code",
   "execution_count": 46,
   "id": "318e1c08",
   "metadata": {},
   "outputs": [],
   "source": [
    "result['summary'] = result['summary'].json()"
   ]
  },
  {
   "cell_type": "code",
   "execution_count": 13,
   "id": "61aa3632",
   "metadata": {},
   "outputs": [
    {
     "data": {
      "text/plain": [
       "PortersFiveForcesSummary(forces=[PortersForceScore(force='Threat of Substitutes', score=5.0, justification=\"Apple faces moderate threat of substitutes across product lines, but mitigates this through ecosystem integration, brand loyalty, and continuous innovation. While viable alternatives exist, Apple's differentiation and ecosystem lock-in reduce the overall impact of substitutes, positioning the company favorably.\"), PortersForceScore(force='Threat of new Entrants', score=8.0, justification=\"Apple faces a low threat of new entrants due to significant barriers to entry. These include economies of scale, strong brand loyalty (92% retention rate), high capital requirements, extensive patent portfolio (20,000+ patents), established distribution channels, high switching costs within Apple's ecosystem, and deep technological expertise. These factors make it extremely challenging for new competitors to enter and compete effectively in Apple's markets.\"), PortersForceScore(force='Customer Power', score=-2.0, justification=\"Apple's customer power is relatively low, benefiting the company. The large, loyal customer base, strong brand loyalty, and ecosystem lock-in significantly reduce customer power. Premium market dominance and price inelasticity allow Apple to maintain high prices. However, high customer expectations and the need for continuous innovation slightly increase customer power, resulting in a slightly negative score.\"), PortersForceScore(force='Competitive Rivalry', score=6.0, justification=\"Apple faces intense competition but maintains a strong position due to its brand strength, innovative ecosystem, and premium positioning. While the rivalry is high, Apple's unique advantages and constant innovation allow it to outperform many competitors, justifying a positive score of 6.\"), PortersForceScore(force='Supplier Power', score=-7.0, justification=\"Apple's extensive network of 500+ suppliers across 40+ countries, coupled with its strategic leverage due to massive scale, significantly reduces supplier power. The company's vertical integration and active supply chain management further weaken supplier influence. While some key suppliers are critical, Apple's ongoing diversification efforts and ability to dictate terms maintain its strong position against supplier power.\")])"
      ]
     },
     "execution_count": 13,
     "metadata": {},
     "output_type": "execute_result"
    }
   ],
   "source": [
    "state['summary']"
   ]
  },
  {
   "cell_type": "code",
   "execution_count": null,
   "id": "e29e69ce",
   "metadata": {},
   "outputs": [],
   "source": []
  },
  {
   "cell_type": "code",
   "execution_count": null,
   "id": "6fbc5d82",
   "metadata": {},
   "outputs": [],
   "source": []
  },
  {
   "cell_type": "code",
   "execution_count": null,
   "id": "26f85a66",
   "metadata": {},
   "outputs": [],
   "source": []
  },
  {
   "cell_type": "code",
   "execution_count": 34,
   "id": "8381db8c",
   "metadata": {},
   "outputs": [],
   "source": [
    "import random # TEMP - to be removed\n",
    "force = 'Competitive Rivalry'\n",
    "score = random.randint(-10, 10)\n",
    "example_score = PortersForceScore(\n",
    "    force_name=force,\n",
    "    force_score=score,\n",
    "    force_justification=f'Sample justification for {force} score of {score}.'\n",
    ")\n",
    "\n",
    "summary1 = PortersFiveForcesSummary(forces_scores=[example_score])\n",
    "#summary1 = PortersFiveForcesSummary(forces_scores=[])"
   ]
  },
  {
   "cell_type": "code",
   "execution_count": 44,
   "id": "79f6bcfa",
   "metadata": {},
   "outputs": [],
   "source": [
    "import random # TEMP - to be removed\n",
    "force = 'Customer Power'\n",
    "score = random.randint(-10, 10)\n",
    "example_score = PortersForceScore(\n",
    "    force_name=force,\n",
    "    force_score=score,\n",
    "    force_justification=f'Sample justification for {force} score of {score}.'\n",
    ")\n",
    "\n",
    "summary2 = PortersFiveForcesSummary(forces_scores=[example_score])\n",
    "#summary2 = PortersFiveForcesSummary(forces_scores=[])"
   ]
  },
  {
   "cell_type": "code",
   "execution_count": 45,
   "id": "69bbd776",
   "metadata": {},
   "outputs": [],
   "source": [
    "summary_combo = merge_summaries(summary1, summary2)"
   ]
  },
  {
   "cell_type": "code",
   "execution_count": 46,
   "id": "4012d1c5",
   "metadata": {},
   "outputs": [],
   "source": []
  },
  {
   "cell_type": "code",
   "execution_count": 47,
   "id": "bdc48ae2",
   "metadata": {},
   "outputs": [],
   "source": []
  },
  {
   "cell_type": "code",
   "execution_count": null,
   "id": "88406931",
   "metadata": {},
   "outputs": [],
   "source": []
  },
  {
   "cell_type": "code",
   "execution_count": null,
   "id": "f98b42cb",
   "metadata": {},
   "outputs": [],
   "source": []
  },
  {
   "cell_type": "code",
   "execution_count": null,
   "id": "c2be47e3",
   "metadata": {},
   "outputs": [],
   "source": []
  }
 ],
 "metadata": {
  "kernelspec": {
   "display_name": "Python 3 (ipykernel)",
   "language": "python",
   "name": "python3"
  },
  "language_info": {
   "codemirror_mode": {
    "name": "ipython",
    "version": 3
   },
   "file_extension": ".py",
   "mimetype": "text/x-python",
   "name": "python",
   "nbconvert_exporter": "python",
   "pygments_lexer": "ipython3",
   "version": "3.11.4"
  }
 },
 "nbformat": 4,
 "nbformat_minor": 5
}
