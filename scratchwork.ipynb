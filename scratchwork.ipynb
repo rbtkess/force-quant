{
 "cells": [
  {
   "cell_type": "markdown",
   "metadata": {},
   "source": [
    "## Alpha Vantage - PE Ratio Example"
   ]
  },
  {
   "cell_type": "code",
   "execution_count": 4,
   "metadata": {},
   "outputs": [],
   "source": [
    "import os # for referencing environment variables\n",
    "from dotenv import load_dotenv # for loading environment variables \n",
    "import requests"
   ]
  },
  {
   "cell_type": "code",
   "execution_count": 5,
   "metadata": {},
   "outputs": [],
   "source": [
    "load_dotenv() # load environment variables from .env file\n",
    "alpha_vantage_api_key = os.getenv('ALPHA_VANTAGE_API_KEY') # Get your API key from https://www.alphavantage.co/support/#api-key"
   ]
  },
  {
   "cell_type": "code",
   "execution_count": 6,
   "metadata": {},
   "outputs": [
    {
     "data": {
      "text/plain": [
       "35.85"
      ]
     },
     "execution_count": 6,
     "metadata": {},
     "output_type": "execute_result"
    }
   ],
   "source": [
    "ticker = 'AAPL'\n",
    "url = f'https://www.alphavantage.co/query?function=OVERVIEW&symbol={ticker}&apikey={alpha_vantage_api_key}'\n",
    "r = requests.get(url)\n",
    "data = r.json()\n",
    "pe_ratio = float(data['PERatio'])\n",
    "pe_ratio"
   ]
  },
  {
   "cell_type": "markdown",
   "metadata": {},
   "source": [
    "### Reducer function scratchwork"
   ]
  },
  {
   "cell_type": "code",
   "execution_count": 1,
   "metadata": {},
   "outputs": [],
   "source": [
    "def flatten_to_single_string_in_list_reducer(*args):\n",
    "    '''\n",
    "        A reducer function that returns a single string value in a list.\n",
    "        Used for cases where a single values is needed in the state \n",
    "        for a given key when merging the state from two sub-graphs.\n",
    "        NOTE: There appears to be no way for langgraph to natively \n",
    "        merge state for a key of type string between two sub-graphs. \n",
    "        This behavior appears to be different than when merging the state \n",
    "        from two different nodes which are not sub-graphs.\n",
    "    '''\n",
    "    def flatten(input_data):\n",
    "        for item in input_data:\n",
    "            if isinstance(item, (list, tuple)):\n",
    "                yield from flatten(item)\n",
    "            else:\n",
    "                yield item\n",
    "    \n",
    "    # Flatten all arguments into a single list\n",
    "    flat_list = list(flatten(args))\n",
    "    \n",
    "    # Find the first non-null string in the flattened list\n",
    "    for item in flat_list:\n",
    "        if item is not None and isinstance(item, str):\n",
    "            return [item]\n",
    "    \n",
    "    return []"
   ]
  },
  {
   "cell_type": "code",
   "execution_count": 2,
   "metadata": {},
   "outputs": [
    {
     "name": "stdout",
     "output_type": "stream",
     "text": [
      "['AAPL']\n",
      "['AAPL']\n",
      "['AAPL']\n",
      "['AAPL']\n",
      "['AAPL']\n",
      "['AAPL']\n",
      "['AAPL']\n",
      "['AAPL']\n",
      "['AAPL']\n",
      "['AAPL']\n",
      "['AAPL']\n"
     ]
    }
   ],
   "source": [
    "print(flatten_to_single_string_in_list_reducer('AAPL'))  # Output: ['AAPL']\n",
    "print(flatten_to_single_string_in_list_reducer(['AAPL', 'AAPL']))  # Output: ['AAPL']\n",
    "print(flatten_to_single_string_in_list_reducer(['AAPL', 'AAPL'], ['AAPL']))  # Output: ['AAPL']\n",
    "print(flatten_to_single_string_in_list_reducer(None, ['AAPL'], ['AAPL']))  # Output: ['AAPL']\n",
    "print(flatten_to_single_string_in_list_reducer(None, 'AAPL'))  # Output: ['AAPL']\n",
    "print(flatten_to_single_string_in_list_reducer(['AAPL', None, 'BP']))  # Output: ['AAPL']\n",
    "print(flatten_to_single_string_in_list_reducer(None, None, 'AAPL', None, ['BP']))  # Output: ['AAPL']\n",
    "print(flatten_to_single_string_in_list_reducer([['AAPL'], ['AAPL']]))  # Output: ['AAPL']\n",
    "print(flatten_to_single_string_in_list_reducer((['AAPL', 'AAPL'], ['AAPL'])))  # Output: ['AAPL']\n",
    "print(flatten_to_single_string_in_list_reducer((None, 'AAPL'), (None, 'BP')))  # Output: ['AAPL']\n",
    "print(flatten_to_single_string_in_list_reducer([['AAPL'], ['AAPL']]))"
   ]
  },
  {
   "cell_type": "code",
   "execution_count": null,
   "metadata": {},
   "outputs": [],
   "source": []
  }
 ],
 "metadata": {
  "kernelspec": {
   "display_name": "rakPy311",
   "language": "python",
   "name": "python3"
  },
  "language_info": {
   "codemirror_mode": {
    "name": "ipython",
    "version": 3
   },
   "file_extension": ".py",
   "mimetype": "text/x-python",
   "name": "python",
   "nbconvert_exporter": "python",
   "pygments_lexer": "ipython3",
   "version": "3.11.4"
  }
 },
 "nbformat": 4,
 "nbformat_minor": 2
}
