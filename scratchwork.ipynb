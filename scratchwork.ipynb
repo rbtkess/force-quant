{
 "cells": [
  {
   "cell_type": "markdown",
   "metadata": {},
   "source": [
    "## Alpha Vantage - PE Ratio Example"
   ]
  },
  {
   "cell_type": "code",
   "execution_count": 4,
   "metadata": {},
   "outputs": [],
   "source": [
    "import os # for referencing environment variables\n",
    "from dotenv import load_dotenv # for loading environment variables \n",
    "import requests"
   ]
  },
  {
   "cell_type": "code",
   "execution_count": 5,
   "metadata": {},
   "outputs": [],
   "source": [
    "load_dotenv() # load environment variables from .env file\n",
    "alpha_vantage_api_key = os.getenv('ALPHA_VANTAGE_API_KEY') # Get your API key from https://www.alphavantage.co/support/#api-key"
   ]
  },
  {
   "cell_type": "code",
   "execution_count": 6,
   "metadata": {},
   "outputs": [
    {
     "data": {
      "text/plain": [
       "35.85"
      ]
     },
     "execution_count": 6,
     "metadata": {},
     "output_type": "execute_result"
    }
   ],
   "source": [
    "ticker = 'AAPL'\n",
    "url = f'https://www.alphavantage.co/query?function=OVERVIEW&symbol={ticker}&apikey={alpha_vantage_api_key}'\n",
    "r = requests.get(url)\n",
    "data = r.json()\n",
    "pe_ratio = float(data['PERatio'])\n",
    "pe_ratio"
   ]
  },
  {
   "cell_type": "markdown",
   "metadata": {},
   "source": [
    "### Other Web Search Tools"
   ]
  },
  {
   "cell_type": "code",
   "execution_count": null,
   "metadata": {},
   "outputs": [],
   "source": [
    "from langchain_community.tools import DuckDuckGoSearchResults\n",
    "search = DuckDuckGoSearchResults()\n",
    "search_result = search.invoke(query_string)"
   ]
  },
  {
   "cell_type": "code",
   "execution_count": null,
   "metadata": {},
   "outputs": [],
   "source": [
    "from langchain_community.utilities import DuckDuckGoSearchAPIWrapper\n",
    "from langchain_community.document_loaders import SeleniumURLLoader\n",
    "import re\n",
    "wrapper = DuckDuckGoSearchAPIWrapper(max_results=4)\n",
    "url_search = DuckDuckGoSearchResults(api_wrapper=wrapper)\n",
    "url_search_result = search.invoke(query_string)\n",
    "pattern = r'https?://[^\\s\\]]+'\n",
    "#match = re.search(pattern, url_search_result)\n",
    "#first_link = match.group() if match else None\n",
    "#loader = SeleniumURLLoader(urls=[first_link])\n",
    "#data = loader.load()\n",
    "#page_content = data[0].page_content\n",
    "urls = re.findall(pattern, url_search_result)\n",
    "page_content = ''\n",
    "for url in urls:\n",
    "    loader = SeleniumURLLoader(urls=[url])\n",
    "    data = loader.load()\n",
    "    page_content = data[0].page_content\n",
    "\n",
    "    # Check if the page content is not empty\n",
    "    if page_content:\n",
    "        break  # Exit the loop if non-empty content is found\n"
   ]
  },
  {
   "cell_type": "code",
   "execution_count": null,
   "metadata": {},
   "outputs": [],
   "source": []
  },
  {
   "cell_type": "code",
   "execution_count": null,
   "metadata": {},
   "outputs": [],
   "source": [
    "# def merge_summaries(summary1_json: str, summary2_json: str) -> str:\n",
    "#     '''\n",
    "#     Merge two instances of PortersFiveForcesSummary, keeping unique forces and retaining summary1's version of duplicates.\n",
    "#     '''\n",
    "#     if summary1_json is None or summary1_json == '':\n",
    "#         summary1_json = str(PortersFiveForcesSummary(forces_scores=[]).json())\n",
    "#     summary1 = PortersFiveForcesSummary.parse_raw(summary1_json)\n",
    "#     if summary2_json is None or summary2_json == '':\n",
    "#         summary2_json = str(PortersFiveForcesSummary(forces_scores=[]).json())\n",
    "#     summary2 = PortersFiveForcesSummary.parse_raw(summary2_json)\n",
    "\n",
    "#     # Create a dictionary for summary1 forces using the original attribute names\n",
    "#     force_dict: Dict[str, PortersForceScore] = {force.force: force for force in summary1.forces}\n",
    "    \n",
    "#     # Add unique forces from summary2, ignoring duplicates\n",
    "#     for force in summary2.forces:\n",
    "#         if force.force not in force_dict:\n",
    "#             force_dict[force.force] = force\n",
    "    \n",
    "#     # Create a new summary with merged forces using the alias 'forces_scores'\n",
    "#     merged_summary = PortersFiveForcesSummary(forces_scores=list(force_dict.values()))\n",
    "\n",
    "#     merged_summary_json = merged_summary.json()\n",
    "\n",
    "#     return merged_summary_json"
   ]
  },
  {
   "cell_type": "code",
   "execution_count": null,
   "metadata": {},
   "outputs": [],
   "source": []
  },
  {
   "cell_type": "code",
   "execution_count": 4,
   "metadata": {},
   "outputs": [],
   "source": [
    "import yfinance as yf\n",
    "import pandas as pd\n",
    "\n",
    "def get_stock_data(ticker: str, period: str = '5y'):\n",
    "    stock_data = yf.download(ticker, period=period)\n",
    "    closing_prices = stock_data['Close']\n",
    "    return closing_prices"
   ]
  },
  {
   "cell_type": "code",
   "execution_count": 5,
   "metadata": {},
   "outputs": [
    {
     "name": "stderr",
     "output_type": "stream",
     "text": [
      "[*********************100%%**********************]  1 of 1 completed\n"
     ]
    }
   ],
   "source": [
    "ticker = 'AAPL' \n",
    "closing_prices = get_stock_data(ticker)"
   ]
  },
  {
   "cell_type": "code",
   "execution_count": 3,
   "metadata": {},
   "outputs": [
    {
     "data": {
      "text/plain": [
       "Date\n",
       "2019-08-07     49.759998\n",
       "2019-08-08     50.857498\n",
       "2019-08-09     50.247501\n",
       "2019-08-12     50.119999\n",
       "2019-08-13     52.242500\n",
       "                 ...    \n",
       "2024-08-01    218.360001\n",
       "2024-08-02    219.860001\n",
       "2024-08-05    209.270004\n",
       "2024-08-06    207.229996\n",
       "2024-08-07    210.899994\n",
       "Name: Close, Length: 1259, dtype: float64"
      ]
     },
     "execution_count": 3,
     "metadata": {},
     "output_type": "execute_result"
    }
   ],
   "source": [
    "closing_prices"
   ]
  },
  {
   "cell_type": "code",
   "execution_count": 18,
   "metadata": {},
   "outputs": [],
   "source": [
    "import yfinance as yf\n",
    "import pandas as pd\n",
    "import numpy as np\n",
    "from datetime import timedelta\n",
    "\n",
    "def get_stock_data(ticker: str, period: str = '5y', expected_return: float = 0.1):\n",
    "    stock_data = yf.download(ticker, period=period)\n",
    "    closing_prices = stock_data['Close']\n",
    "    last_close_price = closing_prices.iloc[-1]\n",
    "    future_dates = pd.date_range(start=closing_prices.index[-1] + timedelta(days=1), periods=365, freq='D')\n",
    "    future_prices = last_close_price * (1 + expected_return * np.linspace(0, 1, 365))\n",
    "    future_prices_df = pd.DataFrame({'Close': future_prices}, index=future_dates)\n",
    "    stock_prices = {\n",
    "        'labels': closing_prices.index.strftime('%Y-%m-%d').tolist() + future_dates.strftime('%Y-%m-%d').tolist(),\n",
    "        'datasets': [\n",
    "            {\n",
    "                'label': 'History',\n",
    "                'data': closing_prices.values.tolist() + [None] * 365,\n",
    "                'borderColor': 'rgba(75, 192, 192, 1)',\n",
    "                'backgroundColor': 'rgba(75, 192, 192, 0.2)',\n",
    "                'fill': False,\n",
    "            },\n",
    "            {\n",
    "                'label': 'Forecast',\n",
    "                'data': [None] * len(closing_prices) + future_prices.tolist(),\n",
    "                'borderColor': 'rgba(255, 99, 132, 1)',\n",
    "                'backgroundColor': 'rgba(255, 99, 132, 0.2)',\n",
    "                'fill': False,\n",
    "            }\n",
    "        ]\n",
    "    }\n",
    "    return stock_prices"
   ]
  },
  {
   "cell_type": "code",
   "execution_count": 19,
   "metadata": {},
   "outputs": [
    {
     "name": "stderr",
     "output_type": "stream",
     "text": [
      "[*********************100%%**********************]  1 of 1 completed\n"
     ]
    }
   ],
   "source": [
    "ticker = 'AAPL'\n",
    "expected_return = 0.1\n",
    "chart_data = get_stock_data(ticker, expected_return=expected_return)"
   ]
  },
  {
   "cell_type": "code",
   "execution_count": 20,
   "metadata": {},
   "outputs": [
    {
     "data": {
      "text/plain": [
       "dict"
      ]
     },
     "execution_count": 20,
     "metadata": {},
     "output_type": "execute_result"
    }
   ],
   "source": [
    "type(chart_data)"
   ]
  },
  {
   "cell_type": "code",
   "execution_count": null,
   "metadata": {},
   "outputs": [],
   "source": [
    "def get_stock_data(state: State) -> State:\n",
    "    ticker = state['ticker']\n",
    "    expected_return = state['expected_return']\n",
    "    period = '5y'\n",
    "    stock_data = yf.download(ticker, period=period)\n",
    "    closing_prices = stock_data['Close']\n",
    "    last_close_price = closing_prices.iloc[-1]\n",
    "    future_dates = pd.date_range(start=closing_prices.index[-1] + timedelta(days=1), periods=365, freq='D')\n",
    "    future_prices = last_close_price * (1 + expected_return * np.linspace(0, 1, 365))\n",
    "    future_prices_df = pd.DataFrame({'Close': future_prices}, index=future_dates)\n",
    "    stock_prices = {\n",
    "        'labels': closing_prices.index.strftime('%Y-%m-%d').tolist() + future_dates.strftime('%Y-%m-%d').tolist(),\n",
    "        'datasets': [\n",
    "            {\n",
    "                'label': 'History',\n",
    "                'data': closing_prices.values.tolist() + [None] * 365,\n",
    "                'borderColor': 'rgba(75, 192, 192, 1)',\n",
    "                'backgroundColor': 'rgba(75, 192, 192, 0.2)',\n",
    "                'fill': False,\n",
    "            },\n",
    "            {\n",
    "                'label': 'Forecast',\n",
    "                'data': [None] * len(closing_prices) + future_prices.tolist(),\n",
    "                'borderColor': 'rgba(255, 99, 132, 1)',\n",
    "                'backgroundColor': 'rgba(255, 99, 132, 0.2)',\n",
    "                'fill': False,\n",
    "            }\n",
    "        ]\n",
    "    }\n",
    "    state['stock_prices'] = stock_prices\n",
    "    return state"
   ]
  }
 ],
 "metadata": {
  "kernelspec": {
   "display_name": "rakPy311",
   "language": "python",
   "name": "python3"
  },
  "language_info": {
   "codemirror_mode": {
    "name": "ipython",
    "version": 3
   },
   "file_extension": ".py",
   "mimetype": "text/x-python",
   "name": "python",
   "nbconvert_exporter": "python",
   "pygments_lexer": "ipython3",
   "version": "3.11.4"
  }
 },
 "nbformat": 4,
 "nbformat_minor": 2
}
